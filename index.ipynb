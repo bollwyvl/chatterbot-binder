{
 "cells": [
  {
   "cell_type": "markdown",
   "metadata": {},
   "source": [
    "> Run all the cells with <kbd>shift+enter</kbd>..."
   ]
  },
  {
   "cell_type": "code",
   "execution_count": 154,
   "metadata": {
    "collapsed": false
   },
   "outputs": [],
   "source": [
    "from chatterbot import ChatBot\n",
    "from ipywidgets import Text, HTML, HBox, VBox, Button, IntText\n",
    "from time import time"
   ]
  },
  {
   "cell_type": "code",
   "execution_count": 155,
   "metadata": {
    "collapsed": false
   },
   "outputs": [],
   "source": [
    "bot = ChatBot(\"Bart Ender\",\n",
    "              io_adapter=\"chatterbot.adapters.io.NoOutputAdapter\",\n",
    "              logic_adapter=\"chatterbot.adapters.logic.ClosestMatchAdapter\")"
   ]
  },
  {
   "cell_type": "code",
   "execution_count": 156,
   "metadata": {
    "collapsed": false
   },
   "outputs": [],
   "source": [
    "bot.train(\"chatterbot.corpus.english\")"
   ]
  },
  {
   "cell_type": "code",
   "execution_count": 161,
   "metadata": {
    "collapsed": false
   },
   "outputs": [],
   "source": [
    "bot.train(\"\"\"\n",
    "When does the bar open?\n",
    "Five o'clock.\n",
    "When does the bar open?\n",
    "Two o'clock.\n",
    "Do I have to go home, then?\n",
    "No, but you can't stay here.\n",
    "\"\"\".split(\"\\n\"))"
   ]
  },
  {
   "cell_type": "code",
   "execution_count": 158,
   "metadata": {
    "collapsed": false
   },
   "outputs": [],
   "source": [
    "question = Text(placeholder=\"Ask a bartender\")\n",
    "answer = HTML()"
   ]
  },
  {
   "cell_type": "code",
   "execution_count": 159,
   "metadata": {
    "collapsed": false
   },
   "outputs": [],
   "source": [
    "@question.observe\n",
    "def asking(x):\n",
    "    if question.value.endswith(\"?\"):\n",
    "        answer.value = bot.get_response(question.value)\n",
    "    else:\n",
    "        answer.value = \"...\""
   ]
  },
  {
   "cell_type": "code",
   "execution_count": 160,
   "metadata": {
    "collapsed": false
   },
   "outputs": [],
   "source": [
    "VBox(children=[question, answer], _dom_classes = [\"well\", \"well-success\"])"
   ]
  },
  {
   "cell_type": "markdown",
   "metadata": {},
   "source": [
    "> Now talk with your bartender."
   ]
  }
 ],
 "metadata": {
  "kernelspec": {
   "display_name": "Python 3",
   "language": "python",
   "name": "python3"
  },
  "language_info": {
   "codemirror_mode": {
    "name": "ipython",
    "version": 3
   },
   "file_extension": ".py",
   "mimetype": "text/x-python",
   "name": "python",
   "nbconvert_exporter": "python",
   "pygments_lexer": "ipython3",
   "version": "3.5.1"
  }
 },
 "nbformat": 4,
 "nbformat_minor": 0
}
